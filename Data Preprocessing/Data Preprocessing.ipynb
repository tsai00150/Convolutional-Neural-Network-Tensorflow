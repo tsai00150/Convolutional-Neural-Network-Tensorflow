{
 "cells": [
  {
   "cell_type": "code",
   "execution_count": 3,
   "metadata": {},
   "outputs": [
    {
     "name": "stdout",
     "output_type": "stream",
     "text": [
      "Model: \"sequential_2\"\n",
      "_________________________________________________________________\n",
      "Layer (type)                 Output Shape              Param #   \n",
      "=================================================================\n",
      "conv2d_6 (Conv2D)            (None, 30, 30, 32)        896       \n",
      "_________________________________________________________________\n",
      "max_pooling2d_4 (MaxPooling2 (None, 15, 15, 32)        0         \n",
      "_________________________________________________________________\n",
      "conv2d_7 (Conv2D)            (None, 13, 13, 64)        18496     \n",
      "_________________________________________________________________\n",
      "max_pooling2d_5 (MaxPooling2 (None, 6, 6, 64)          0         \n",
      "_________________________________________________________________\n",
      "conv2d_8 (Conv2D)            (None, 4, 4, 64)          36928     \n",
      "_________________________________________________________________\n",
      "flatten_2 (Flatten)          (None, 1024)              0         \n",
      "_________________________________________________________________\n",
      "dense_4 (Dense)              (None, 64)                65600     \n",
      "_________________________________________________________________\n",
      "dense_5 (Dense)              (None, 10)                650       \n",
      "=================================================================\n",
      "Total params: 122,570\n",
      "Trainable params: 122,570\n",
      "Non-trainable params: 0\n",
      "_________________________________________________________________\n",
      "Train on 50000 samples, validate on 10000 samples\n",
      "Epoch 1/5\n",
      "50000/50000 [==============================] - 33s 652us/sample - loss: 1.3987 - acc: 0.4962 - val_loss: 1.1462 - val_acc: 0.5966\n",
      "Epoch 2/5\n",
      "50000/50000 [==============================] - 33s 665us/sample - loss: 1.0295 - acc: 0.6402 - val_loss: 0.9415 - val_acc: 0.6714\n",
      "Epoch 3/5\n",
      "50000/50000 [==============================] - 27s 536us/sample - loss: 0.8754 - acc: 0.6938 - val_loss: 0.9405 - val_acc: 0.6747\n",
      "Epoch 4/5\n",
      "50000/50000 [==============================] - 26s 523us/sample - loss: 0.7766 - acc: 0.7289 - val_loss: 0.8556 - val_acc: 0.7023\n",
      "Epoch 5/5\n",
      "50000/50000 [==============================] - 27s 539us/sample - loss: 0.7044 - acc: 0.7550 - val_loss: 0.8190 - val_acc: 0.7184\n",
      "['loss', 'acc']\n"
     ]
    },
    {
     "data": {
      "image/png": "[encoded data removed]",
      "text/plain": [
       "<Figure size 432x288 with 1 Axes>"
      ]
     },
     "metadata": {
      "needs_background": "light"
     },
     "output_type": "display_data"
    },
    {
     "name": "stdout",
     "output_type": "stream",
     "text": [
      "10000/10000 - 2s - loss: 0.8190 - acc: 0.7184\n",
      "0.7184\n"
     ]
    }
   ],
   "source": [
    "from __future__ import absolute_import, division, print_function, unicode_literals\n",
    "\n",
    "import tensorflow as tf\n",
    "from tensorflow.keras import datasets, layers, models, initializers\n",
    "import matplotlib.pyplot as plt\n",
    "import random \n",
    "import numpy as np\n",
    "\n",
    "(train_images, train_labels), (test_images, test_labels) = datasets.cifar10.load_data()\n",
    "\n",
    "def standardize(input):\n",
    "    mean = np.mean(input)\n",
    "    std = np.std(input)\n",
    "    return (input - mean) / std\n",
    "\n",
    "train_images, test_images = standardize(train_images)  , standardize(test_images) \n",
    "\n",
    "#原本的程式碼train_images, test_images = train_images / 255.0,test_images / 255.0\n",
    "#原版是直接除以255，因為使用matplot來顯示的時候RGB的數字必須要在0~1之間，\n",
    "#不然會出現錯誤Clipping input data to the valid range for imshow with RGB data\n",
    "#所以若要套用一般NORMALIZATION的話(也就是MEAN為0，介於-1到1)\n",
    "#必須要把下面的顯示圖像功能關掉才不會出現錯誤\n",
    "\n",
    "class_names = ['airplane', 'automobile', 'bird', 'cat', 'deer',\n",
    "              'dog', 'frog', 'horse', 'ship', 'truck']\n",
    "\n",
    "model = models.Sequential()\n",
    "model.add(layers.Conv2D(32, (3, 3), activation='relu', input_shape=(32, 32, 3)))\n",
    "model.add(layers.MaxPooling2D((2, 2)))\n",
    "model.add(layers.Conv2D(64, (3, 3), activation='relu'))\n",
    "model.add(layers.MaxPooling2D((2, 2)))\n",
    "model.add(layers.Conv2D(64, (3, 3), activation='relu'))\n",
    "\n",
    "model.add(layers.Flatten())\n",
    "model.add(layers.Dense(64, activation='relu'))\n",
    "model.add(layers.Dense(10, activation='softmax'))\n",
    "\n",
    "model.summary()\n",
    "\n",
    "model.compile(optimizer='adam',\n",
    "             loss='sparse_categorical_crossentropy',\n",
    "             metrics=['accuracy'])\n",
    "\n",
    "history = model.fit(train_images, train_labels, epochs=5,\n",
    "                   validation_data=(test_images, test_labels))\n",
    "\n",
    "print(model.metrics_names)\n",
    "\n",
    "plt.plot(history.history['acc'], label='acc')\n",
    "plt.plot(history.history['val_acc'], label = 'val_acc')\n",
    "plt.xlabel('Epoch')\n",
    "plt.ylabel('Accuracy')\n",
    "plt.ylim([0, 1])\n",
    "plt.legend(loc='lower right')\n",
    "\n",
    "plt.show()\n",
    "\n",
    "test_loss, test_acc = model.evaluate(test_images,  test_labels, verbose=2)\n",
    "print(test_acc)\n",
    "\n",
    "\n"
   ]
  }
 ],
 "metadata": {
  "kernelspec": {
   "display_name": "Python 3",
   "language": "python",
   "name": "python3"
  },
  "language_info": {
   "codemirror_mode": {
    "name": "ipython",
    "version": 3
   },
   "file_extension": ".py",
   "mimetype": "text/x-python",
   "name": "python",
   "nbconvert_exporter": "python",
   "pygments_lexer": "ipython3",
   "version": "3.7.4"
  }
 },
 "nbformat": 4,
 "nbformat_minor": 2
}
